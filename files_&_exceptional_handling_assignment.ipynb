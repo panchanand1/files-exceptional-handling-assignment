{
  "nbformat": 4,
  "nbformat_minor": 0,
  "metadata": {
    "colab": {
      "provenance": []
    },
    "kernelspec": {
      "name": "python3",
      "display_name": "Python 3"
    },
    "language_info": {
      "name": "python"
    }
  },
  "cells": [
    {
      "cell_type": "markdown",
      "source": [
        "                \n",
        "  **Files, exceptional handling, logging and memory management**\n",
        "\n",
        "---\n"
      ],
      "metadata": {
        "id": "BxcQoh_o9sAJ"
      }
    },
    {
      "cell_type": "markdown",
      "source": [
        "1. What is the difference between interpreted and compiled languages?\n",
        "\n",
        "---\n",
        "Ans: Interpreted languages execute the code line by line using an interpreter at runtime. The source code is not converted into machine code in advance; instead, each instruction is interpreted and executed immediately. Examples include Python, JavaScript.\n",
        "\n",
        "Compiled languages, on the other hand, are translated into machine code by a compiler before execution. This compiled code is then executed directly by the computer's processor, which generally makes the program run faster. Examples include C, C++, and Java (with bytecode compilation).\n",
        "\n",
        "\n"
      ],
      "metadata": {
        "id": "dg9QcPdR9yhk"
      }
    },
    {
      "cell_type": "markdown",
      "source": [
        "2. What is exception handling in Python?\n",
        "\n",
        "---\n",
        "\n",
        "Ans: Exception handling in Python is a mechanism used to handle errors that occur during the execution of a program. These errors, known as exceptions, can interrupt the normal flow of a program. Python provides built-in support to catch and manage these exceptions using specific keywords.\n",
        "\n",
        "The main purpose of exception handling is to ensure that the program can respond to unexpected situations gracefully, without crashing.\n"
      ],
      "metadata": {
        "id": "sq4FtpA09zAi"
      }
    },
    {
      "cell_type": "markdown",
      "source": [
        "3. What is the purpose of the finally block in exception handling?\n",
        "\n",
        "\n",
        "---\n",
        "\n",
        "Ans: The finally block in Python is used in exception handling to define a section of code that will always be executed, no matter what happens in the try and except blocks.\n",
        "\n",
        "This block is commonly used for cleanup actions such as:\n",
        "\n",
        "\n",
        "*   Closing a file\n",
        "*   Releasing system resources\n",
        "*   Closing a database connection\n",
        "\n",
        "\n",
        "\n",
        "\n"
      ],
      "metadata": {
        "id": "LpmzMnyd9zpH"
      }
    },
    {
      "cell_type": "markdown",
      "source": [
        "4. What is Logging in Python?\n",
        "\n",
        "\n",
        "---\n",
        "\n",
        "Ans: Logging in Python is the process of recording messages that describe events that occur during the execution of a program. These messages can help developers debug, monitor, and maintain their applications more effectively.\n",
        "\n",
        "Python provides a built-in module called logging which allows you to log messages at different severity levels (such as info, warning, error, etc.) and to different destinations (console, file, etc.).\n",
        "\n",
        "\n",
        "\n"
      ],
      "metadata": {
        "id": "7-CDhaMQ90cX"
      }
    },
    {
      "cell_type": "markdown",
      "source": [
        "5. What is the significance of the __del__ method in Python?\n",
        "\n",
        "\n",
        "---\n",
        "\n",
        "\n",
        "\n",
        "Ans: The __del__ method in Python is a special method known as a destructor. It is called automatically when an object is about to be destroyed by the Python garbage collector.\n",
        "\n",
        "\n",
        "\n"
      ],
      "metadata": {
        "id": "uWP8N3TvBkOI"
      }
    },
    {
      "cell_type": "markdown",
      "source": [
        "6. What is the difference between import and from ... import in Python?\n",
        "\n",
        "\n",
        "---\n",
        "Ans: In Python, both import and from ... import are used to include external modules in a program, but they serve slightly different purposes in how the module or its components are accessed.\n",
        "\n",
        "**1. import Statement :**\n",
        "\n",
        "The import statement imports the entire module. You must use the module name as a prefix when accessing its functions or variables.\n",
        "\n",
        "**2. from ... import Statement:**\n",
        "\n",
        "The from ... import statement imports specific functions, classes, or variables from a module. You can use them directly without the module prefix.\n",
        "\n",
        "\n"
      ],
      "metadata": {
        "id": "5w5-NPTJCPgh"
      }
    },
    {
      "cell_type": "markdown",
      "source": [
        "7. How can you handle multiple exceptions in Python?\n",
        "\n",
        "\n",
        "---\n",
        "Ans: Handling multiple exceptions allows a program to be more robust and user-friendly by addressing different error scenarios separately or collectively.\n",
        "\n",
        " In Python, you can handle multiple exceptions by using:\n",
        "> Multiple except blocks\n",
        "\n",
        "\n",
        "> A single except block with multiple exceptions in a tuple\n",
        "\n",
        "This allows your program to respond differently to various error types and maintain stability during runtime.\n",
        "\n",
        "\n",
        "\n",
        "\n",
        "\n"
      ],
      "metadata": {
        "id": "-PDPy2iUDACM"
      }
    },
    {
      "cell_type": "markdown",
      "source": [
        "8. What is the purpose of the with statement when handling files in Python?\n",
        "\n",
        "---\n",
        "Ans: The with statement in Python is used to simplify file handling by automatically managing the opening and closing of files. It ensures that resources like files are properly closed after their use, even if an exception occurs during processing.\n"
      ],
      "metadata": {
        "id": "rFzh3jcYD08X"
      }
    },
    {
      "cell_type": "markdown",
      "source": [
        "9. What is the difference between multithreading and multiprocessing?\n",
        "\n",
        "---\n",
        "Ans: Multithreading and multiprocessing are two techniques used in Python for achieving concurrent execution of tasks. However, they work differently and are suited for different types of problems.\n",
        "\n",
        "**Multithreading:**\n",
        "\n",
        "Multithreading uses multiple threads within a single process to run tasks concurrently.\n",
        "\n",
        "\n",
        "*   Best for I/O-bound tasks (like file reading, web requests).\n",
        "\n",
        "*   Threads share the same memory space.\n",
        "\n",
        "**Multiprocessing:**\n",
        "\n",
        "Multiprocessing uses multiple processes, each with its own memory space, to execute tasks in parallel.\n",
        "\n",
        "\n",
        "*   Best for CPU-bound tasks (like large calculations).\n",
        "*   Processes do not share memory, making it safer but heavier.\n",
        "\n",
        "\n",
        "\n",
        "\n",
        "\n",
        "\n"
      ],
      "metadata": {
        "id": "RMov3PKTEGIx"
      }
    },
    {
      "cell_type": "markdown",
      "source": [
        "10. What are the advantages of using logging in a program?\n",
        "\n",
        "---\n",
        "Ans: Logging in a program refers to the process of recording important events, messages, errors, and information during the execution of code. Python provides a built-in logging module to perform logging in a structured and flexible way.\n",
        "\n",
        "Using logging instead of print statements offers numerous advantages, especially in large or production-level applications.\n",
        "\n",
        "\n"
      ],
      "metadata": {
        "id": "cjMgSxSrE9Li"
      }
    },
    {
      "cell_type": "markdown",
      "source": [
        "11. What is memory management in Python?\n",
        "\n",
        "---\n",
        "\n",
        "\n",
        "Ans: Memory management in Python refers to the process by which Python allocates, tracks, and frees memory used by variables, objects, and data structures during program execution.\n",
        "\n",
        "Python handles memory management automatically using several built-in mechanisms, so developers do not need to manually allocate or free memory, unlike in some other programming languages like C or C++."
      ],
      "metadata": {
        "id": "OfG5qn8-FVkX"
      }
    },
    {
      "cell_type": "markdown",
      "source": [
        "12. What are the basic steps involved in exception handling in Python?\n",
        "\n",
        "---\n",
        "\n",
        "\n",
        "Ans: Exception handling in Python is a structured way to detect and respond to errors that occur during program execution. It allows the program to continue running or exit gracefully instead of crashing.\n",
        "\n",
        "Python uses specific keywords to define blocks of code for handling exceptions.\n",
        "\n",
        "**Basic Steps in Exception Handling:**\n",
        "\n",
        "\n",
        "1.   **try Block:**\n",
        " Place the code that might raise an exception inside the try block.\n",
        "\n",
        "2.   **except Block:**\n",
        "Handle specific or general exceptions that may occur in the try block.\n",
        "\n",
        "\n",
        "\n",
        "\n"
      ],
      "metadata": {
        "id": "HKWqEOC6FtEY"
      }
    },
    {
      "cell_type": "markdown",
      "source": [
        "13. Why is memory management important in Python?\n",
        "\n",
        "---\n",
        "\n",
        "\n",
        "Ans: Memory management is important in Python because it directly affects the performance, stability, and efficiency of programs. Proper memory handling ensures that applications use only the memory they need and release it when it's no longer required.\n",
        "\n",
        "Although Python handles memory automatically, understanding its importance helps developers write better and more optimized code.\n",
        "\n"
      ],
      "metadata": {
        "id": "lQ5u01S2Gg12"
      }
    },
    {
      "cell_type": "markdown",
      "source": [
        "14. What is the role of try and except in exception handling?\n",
        "\n",
        "---\n",
        "\n",
        "\n",
        "Ans: The try and except blocks are the core components of exception handling in Python. They are used to detect and handle errors during program execution, ensuring the program does not crash unexpectedly.\n",
        "\n",
        "**Role of try:**\n",
        "\n",
        "The try block is used to wrap the code that may cause an exception. If an error occurs inside the try block, the rest of the code in that block is skipped.\n",
        "\n",
        "**Role of except:**\n",
        "\n",
        "The except block defines how to handle specific exceptions. When an exception is raised in the try block, control is transferred to the appropriate except block.\n",
        "\n",
        "\n"
      ],
      "metadata": {
        "id": "mKL8oeMyHAUB"
      }
    },
    {
      "cell_type": "markdown",
      "source": [
        "15. How does Python's garbage collection system work?\n",
        "\n",
        "---\n",
        "\n",
        "\n",
        "Ans: Python’s garbage collection system is responsible for automatically managing memory by reclaiming unused memory and destroying objects that are no longer needed. This helps prevent memory leaks and improves program efficiency."
      ],
      "metadata": {
        "id": "4v6bi5Z-Hjq2"
      }
    },
    {
      "cell_type": "markdown",
      "source": [
        "16. What is the purpose of the else block in exception handling?\n",
        "\n",
        "---\n",
        "\n",
        "\n",
        "Ans: In Python’s exception handling structure, the else block is used to define code that should run only if no exception occurs in the try block. It helps separate the error-handling code from the normal execution code, improving code readability and structure."
      ],
      "metadata": {
        "id": "fVgNND2GHt9a"
      }
    },
    {
      "cell_type": "markdown",
      "source": [
        "17. What are the common logging levels in Python?\n",
        "\n",
        "---\n",
        "\n",
        "\n",
        "Ans: Python’s logging module provides several logging levels that indicate the severity or importance of the messages being recorded. These levels help developers filter and manage log messages based on how critical they are."
      ],
      "metadata": {
        "id": "3IIywV-cH_NB"
      }
    },
    {
      "cell_type": "markdown",
      "source": [
        "18. What is the difference between os.fork() and multiprocessing in Python?\n",
        "\n",
        "---\n",
        "\n",
        "\n",
        "Ans: Both os.fork() and the multiprocessing module in Python are used to create new processes, but they work differently and have different use cases.\n",
        "\n"
      ],
      "metadata": {
        "id": "uWO7BDReIRen"
      }
    },
    {
      "cell_type": "markdown",
      "source": [
        "19. What is the importance of closing a file in Python?\n",
        "\n",
        "---\n",
        "\n",
        "\n",
        "Ans: Closing a file in Python is important to ensure that all resources used by the file are properly released. When a file is opened using the open() function, it stays open in memory, and not closing it may lead to resource leaks, data corruption, or system limitations."
      ],
      "metadata": {
        "id": "WJ3DX8dgIo4R"
      }
    },
    {
      "cell_type": "markdown",
      "source": [
        "20. What is the difference between file.read() and file.readline() in Python?\n",
        "\n",
        "---\n",
        "\n",
        "\n",
        "Ans: In Python, both file.read() and file.readline() are methods used to read data from a file, but they differ in how much data they read and how they process it.\n",
        "\n",
        " **file.read()**\n",
        "\n",
        "\n",
        "*   Reads the entire content of the file as a single string.\n",
        "*   Useful when you need to process the whole file at once.\n",
        "\n",
        "*   Can be memory-intensive for large files.\n",
        "\n",
        "**file.readline()**\n",
        "\n",
        "\n",
        "*   Reads only one line from the file at a time.\n",
        "\n",
        "*   Returns a string ending with a newline character (\\n) if present.\n",
        "*   More memory-efficient for reading large files line by line.\n",
        "\n",
        "\n",
        "\n",
        "\n",
        "\n",
        "\n",
        "\n",
        "\n",
        "\n",
        "\n",
        "\n",
        "\n",
        "\n",
        "\n"
      ],
      "metadata": {
        "id": "1ZjiqeOeIzoJ"
      }
    },
    {
      "cell_type": "markdown",
      "source": [
        "21. What is the logging module in Python used for?\n",
        "\n",
        "---\n",
        "\n",
        "\n",
        "Ans: The logging module in Python is a built-in module used to record events and messages that happen during a program’s execution. It provides a flexible framework for writing log messages to various outputs, such as the console, files, or even remote servers.\n",
        "\n",
        "Logging is used instead of print() for better debugging, monitoring, and tracking in production environments."
      ],
      "metadata": {
        "id": "r_yAWz9OJzTK"
      }
    },
    {
      "cell_type": "markdown",
      "source": [
        "22. What is the os module in Python used for in file handling?\n",
        "\n",
        "---\n",
        "\n",
        "\n",
        "Ans: The os module in Python is a built-in standard library that provides functions to interact with the operating system. It is especially useful for file and directory handling, such as creating, deleting, renaming, and navigating files and folders."
      ],
      "metadata": {
        "id": "Wl7PM8iqKQM1"
      }
    },
    {
      "cell_type": "markdown",
      "source": [
        "23. What are the challenges associated with memory management in Python?\n",
        "\n",
        "---\n",
        "\n",
        "\n",
        "Ans: While Python provides automatic memory management through reference counting and garbage collection, developers may still face certain challenges that can affect program performance and resource efficiency."
      ],
      "metadata": {
        "id": "AV1iGa4GKUVg"
      }
    },
    {
      "cell_type": "markdown",
      "source": [
        "24. How do you raise an exception manually in Python?\n",
        "\n",
        "---\n",
        "\n",
        "\n",
        "Ans: In Python, you can raise an exception manually using the raise keyword. This is useful when you want to stop the program execution and signal that an error or unusual condition has occurred."
      ],
      "metadata": {
        "id": "8DXoui5SKlQ9"
      }
    },
    {
      "cell_type": "markdown",
      "source": [
        "25. Why is it important to use multithreading in certain applications?\n",
        "\n",
        "---\n",
        "\n",
        "\n",
        "Ans: Multithreading is important in certain applications because it allows multiple threads (small units of a process) to run concurrently, which improves performance, responsiveness, and efficient resource use—especially in I/O-bound tasks."
      ],
      "metadata": {
        "id": "jpNiiSKaK6p0"
      }
    },
    {
      "cell_type": "code",
      "source": [
        "                                                    # Practicle questions:"
      ],
      "metadata": {
        "id": "E-202zSLLLAF"
      },
      "execution_count": null,
      "outputs": []
    },
    {
      "cell_type": "code",
      "source": [
        "# 1. How can you open a file for writing in Python and write a string to it?\n",
        "\n",
        "# Ans; To open a file for writing in Python, you can use the open() function with the \"w\" mode. Here's an example:\n",
        "\n",
        "# Write to the file\n",
        "with open(\"data.txt\", \"w\") as file:\n",
        "    file.write(\"Python is fun!\")\n",
        "\n",
        "# Read from the file\n",
        "with open(\"data.txt\", \"r\") as file:\n",
        "    content = file.read()\n",
        "\n",
        "print(\"File content:\", content)\n"
      ],
      "metadata": {
        "colab": {
          "base_uri": "https://localhost:8080/"
        },
        "id": "AGqgQKgQLjFk",
        "outputId": "636e31b4-9338-4ae4-f3d6-81b19caa3d36"
      },
      "execution_count": 2,
      "outputs": [
        {
          "output_type": "stream",
          "name": "stdout",
          "text": [
            "File content: Python is fun!\n"
          ]
        }
      ]
    },
    {
      "cell_type": "code",
      "source": [
        "# 2. Write a Python program to read the contents of a file and print each line?\n",
        "# Ans:\n",
        "with open(\"data.txt\", \"r\") as file:\n",
        "    for line in file:\n",
        "        print(line.strip())"
      ],
      "metadata": {
        "colab": {
          "base_uri": "https://localhost:8080/"
        },
        "id": "EGneMpojLdrO",
        "outputId": "ed887b07-c229-4a32-c628-fb34be0b9319"
      },
      "execution_count": 3,
      "outputs": [
        {
          "output_type": "stream",
          "name": "stdout",
          "text": [
            "Python is fun!\n"
          ]
        }
      ]
    },
    {
      "cell_type": "code",
      "source": [
        "# 3. How would you handle a case where the file doesn't exist while trying to open it for reading?\n",
        "# Ans:\n",
        "try:\n",
        "    with open(\"nonexistent_file.txt\", \"r\") as file:\n",
        "        content = file.read()\n",
        "        print(content)\n",
        "except FileNotFoundError:\n",
        "    print(\"Error: The file does not exist.\")\n"
      ],
      "metadata": {
        "colab": {
          "base_uri": "https://localhost:8080/"
        },
        "id": "_igmDpewLdW8",
        "outputId": "d1d38174-446c-4781-8190-dd5a3a5960c1"
      },
      "execution_count": 4,
      "outputs": [
        {
          "output_type": "stream",
          "name": "stdout",
          "text": [
            "Error: The file does not exist.\n"
          ]
        }
      ]
    },
    {
      "cell_type": "code",
      "source": [
        "# 4. Write a Python script that reads from one file and writes its content to another file\n",
        "# Ans:\n",
        "\n",
        "with open(\"source.txt\", \"w\") as source_file:\n",
        "    source_file.write(\"This is the content of the source file.\")\n",
        "\n",
        "with open(\"source.txt\", \"r\") as source_file:\n",
        "    content = source_file.read()\n",
        "\n",
        "with open(\"destination.txt\", \"w\") as destination_file:\n",
        "    destination_file.write(content)\n",
        "\n",
        "print(\"File content copied successfully.\")"
      ],
      "metadata": {
        "colab": {
          "base_uri": "https://localhost:8080/"
        },
        "id": "EZPTmDuqLdO0",
        "outputId": "3a6fadf4-eed1-49a7-cc11-db10389c23c5"
      },
      "execution_count": 69,
      "outputs": [
        {
          "output_type": "stream",
          "name": "stdout",
          "text": [
            "File content copied successfully.\n"
          ]
        }
      ]
    },
    {
      "cell_type": "code",
      "source": [
        "# 5. How would you catch and handle division by zero error in Python?\n",
        "# Ans:\n",
        "\n",
        "try:\n",
        "    result = 10 / 0\n",
        "except ZeroDivisionError:\n",
        "    print(\"Error: Division by zero is not allowed.\")"
      ],
      "metadata": {
        "colab": {
          "base_uri": "https://localhost:8080/"
        },
        "id": "4A0fF9J0Larb",
        "outputId": "faa3d9ea-2846-4081-c612-e0041d78be04"
      },
      "execution_count": 8,
      "outputs": [
        {
          "output_type": "stream",
          "name": "stdout",
          "text": [
            "Error: Division by zero is not allowed.\n"
          ]
        }
      ]
    },
    {
      "cell_type": "code",
      "source": [
        "# 6. Write a Python program that logs an error message to a log file when a division by zero exception occurs\n",
        "# Ans:\n",
        "import logging\n",
        "\n",
        "logging.basicConfig(filename=\"error.log\", level=logging.ERROR)\n",
        "\n",
        "try:\n",
        "    result = 10 / 0\n",
        "except ZeroDivisionError:\n",
        "    logging.error(\"Division by zero error occurred.\")\n",
        "\n",
        "print(\"Program execution completed.\")"
      ],
      "metadata": {
        "colab": {
          "base_uri": "https://localhost:8080/"
        },
        "id": "mj_lVZNfLalR",
        "outputId": "065b2e63-b0b5-4855-fa58-b63fa07833b1"
      },
      "execution_count": 67,
      "outputs": [
        {
          "output_type": "stream",
          "name": "stderr",
          "text": [
            "ERROR:root:Division by zero error occurred.\n"
          ]
        },
        {
          "output_type": "stream",
          "name": "stdout",
          "text": [
            "Program execution completed.\n"
          ]
        }
      ]
    },
    {
      "cell_type": "code",
      "source": [
        "# 7. How do you log information at different levels (INFO, ERROR, WARNING) in Python using the logging module?\n",
        "# Ans:\n",
        "import logging\n",
        "\n",
        "logging.basicConfig(filename=\"log.txt\", level=logging.INFO)\n",
        "\n",
        "logging.info(\"This is an informational message.\")\n",
        "logging.error(\"This is an error message.\")\n",
        "logging.warning(\"This is a warning message.\")"
      ],
      "metadata": {
        "colab": {
          "base_uri": "https://localhost:8080/"
        },
        "id": "FEq0kEFGLaf5",
        "outputId": "feff66bb-1aac-4226-8bc9-bca2998f79a5"
      },
      "execution_count": 66,
      "outputs": [
        {
          "output_type": "stream",
          "name": "stderr",
          "text": [
            "INFO:root:This is an informational message.\n",
            "ERROR:root:This is an error message.\n",
            "WARNING:root:This is a warning message.\n"
          ]
        }
      ]
    },
    {
      "cell_type": "code",
      "source": [
        "# 8. Write a program to handle a file opening error using exception handling\n",
        "# Ans:\n",
        "try:\n",
        "    with open(\"nonexistent_file.txt\", \"r\") as file:\n",
        "        content = file.read()\n",
        "        print(content)\n",
        "except FileNotFoundError:\n",
        "    print(\"Error: The file does not exist.\")\n"
      ],
      "metadata": {
        "colab": {
          "base_uri": "https://localhost:8080/"
        },
        "id": "jn3WJrRrLacj",
        "outputId": "5df89e0d-f1a5-4213-a661-8aeb44be4b03"
      },
      "execution_count": 11,
      "outputs": [
        {
          "output_type": "stream",
          "name": "stdout",
          "text": [
            "Error: The file does not exist.\n"
          ]
        }
      ]
    },
    {
      "cell_type": "code",
      "source": [
        "# 9. How can you read a file line by line and store its content in a list in Python?\n",
        "# Ans:\n",
        "with open(\"data.txt\", \"r\") as file:\n",
        "    lines = file.readlines()\n",
        "\n",
        "for line in lines:\n",
        "    print(line.strip())\n"
      ],
      "metadata": {
        "colab": {
          "base_uri": "https://localhost:8080/"
        },
        "id": "4mO8TljDLaYg",
        "outputId": "682ff27d-1128-4221-e92d-61b54e9f2dcd"
      },
      "execution_count": 12,
      "outputs": [
        {
          "output_type": "stream",
          "name": "stdout",
          "text": [
            "Python is fun!\n"
          ]
        }
      ]
    },
    {
      "cell_type": "code",
      "source": [
        "# 10. How can you append data to an existing file in Python?\n",
        "# Ans:\n",
        "with open(\"data.txt\", \"a\") as file:\n",
        "    file.write(\"\\nAppending some more content.\")\n",
        "\n",
        "with open(\"data.txt\", \"r\") as file:\n",
        "    content = file.read()\n",
        "    print(content)"
      ],
      "metadata": {
        "colab": {
          "base_uri": "https://localhost:8080/"
        },
        "id": "r8rb5cp7LaTr",
        "outputId": "8982926a-3ad6-4e5b-f17a-e7c50d75ed7d"
      },
      "execution_count": 19,
      "outputs": [
        {
          "output_type": "stream",
          "name": "stdout",
          "text": [
            "Python is fun!\n",
            "Appending some more content.Appending some more content.\n",
            "Appending some more content.\n",
            "Appending some more content.\n",
            "Appending some more content.\n",
            "Appending some more content.\n"
          ]
        }
      ]
    },
    {
      "cell_type": "code",
      "source": [
        "# 11. Write a Python program that uses a try-except block to handle an error when attempting to access a dictionary key that doesn't exist\n",
        "# Ans:\n",
        "my_dict = {\"name\": \"Panchanand\", \"age\": 30}\n",
        "\n",
        "try:\n",
        "    value = my_dict[\"city\"]\n",
        "except KeyError:\n",
        "    print(\"Error: Key 'city' does not exist in the dictionary.\")"
      ],
      "metadata": {
        "colab": {
          "base_uri": "https://localhost:8080/"
        },
        "id": "gnw8ZHg9LaPM",
        "outputId": "9bcdbb05-66c0-42b2-8514-01fd6823d9ad"
      },
      "execution_count": 20,
      "outputs": [
        {
          "output_type": "stream",
          "name": "stdout",
          "text": [
            "Error: Key 'city' does not exist in the dictionary.\n"
          ]
        }
      ]
    },
    {
      "cell_type": "code",
      "source": [
        "# 12. Write a program that demonstrates using multiple except blocks to handle different types of exceptions.\n",
        "# Ans:\n",
        "try:\n",
        "    result = 10 / 0\n",
        "except ZeroDivisionError:\n",
        "    print(\"Error: Division by zero.\")\n",
        "except ValueError:\n",
        "    print(\"Error: Invalid value.\")\n",
        "except Exception as e:\n",
        "    print(f\"An unexpected error occurred: {e}\")"
      ],
      "metadata": {
        "colab": {
          "base_uri": "https://localhost:8080/"
        },
        "id": "D1uri9j8LaK_",
        "outputId": "3a67a466-a4b7-433c-92d4-236a46307c3f"
      },
      "execution_count": 21,
      "outputs": [
        {
          "output_type": "stream",
          "name": "stdout",
          "text": [
            "Error: Division by zero.\n"
          ]
        }
      ]
    },
    {
      "cell_type": "code",
      "source": [
        "# 13. How would you check if a file exists before attempting to read it in Python?\n",
        "# Ans:\n",
        "import os\n",
        "\n",
        "file_path = \"example.txt\"\n",
        "\n",
        "if os.path.exists(file_path):\n",
        "    with open(file_path, \"r\") as file:\n",
        "        content = file.read()\n",
        "        print(\"File content:\\n\", content)\n",
        "else:\n",
        "    print(\"Error: File does not exist.\")\n"
      ],
      "metadata": {
        "colab": {
          "base_uri": "https://localhost:8080/"
        },
        "id": "3mWEiqYHLaGN",
        "outputId": "76ebac9d-a7de-4a17-e686-7ad0190fa182"
      },
      "execution_count": 25,
      "outputs": [
        {
          "output_type": "stream",
          "name": "stdout",
          "text": [
            "Error: File does not exist.\n"
          ]
        }
      ]
    },
    {
      "cell_type": "code",
      "source": [
        "# 14. Write a program that uses the logging module to log both informational and error messages\n",
        "# Ans:\n",
        "import logging\n",
        "\n",
        "logging.basicConfig(filename=\"log.txt\", level=logging.INFO)\n",
        "\n",
        "logging.info(\"This is an informational message.\")\n",
        "logging.error(\"This is an error message.\")\n"
      ],
      "metadata": {
        "colab": {
          "base_uri": "https://localhost:8080/"
        },
        "id": "QOYkMq-fLaAI",
        "outputId": "449920ab-2ead-410d-bc32-4662450acd9b"
      },
      "execution_count": 65,
      "outputs": [
        {
          "output_type": "stream",
          "name": "stderr",
          "text": [
            "INFO:root:This is an informational message.\n",
            "ERROR:root:This is an error message.\n"
          ]
        }
      ]
    },
    {
      "cell_type": "code",
      "source": [
        "# 15. Write a Python program that prints the content of a file and handles the case when the file is empty\n",
        "# Ans:\n",
        "file_path = \"sample.txt\"\n",
        "\n",
        "try:\n",
        "    with open(file_path, \"r\") as file:\n",
        "        content = file.read()\n",
        "        if content.strip():\n",
        "            print(\"File content:\\n\", content)\n",
        "        else:\n",
        "            print(\"The file is empty.\")\n",
        "except FileNotFoundError:\n",
        "    print(\"Error: File not found.\")\n"
      ],
      "metadata": {
        "colab": {
          "base_uri": "https://localhost:8080/"
        },
        "id": "F-QCSMnNLZ8j",
        "outputId": "b474cd77-7e56-4107-8cd9-063495cfca8c"
      },
      "execution_count": 32,
      "outputs": [
        {
          "output_type": "stream",
          "name": "stdout",
          "text": [
            "Error: File not found.\n"
          ]
        }
      ]
    },
    {
      "cell_type": "code",
      "source": [
        "# 16. Demonstrate how to use memory profiling to check the memory usage of a small program.\n",
        "# Ans:\n",
        "from memory_profiler import profile\n",
        "\n",
        "@profile\n",
        "def create_list():\n",
        "    data = [i for i in range(100000)]\n",
        "    return data\n",
        "\n",
        "if __name__ == \"__main__\":\n",
        "    create_list()\n"
      ],
      "metadata": {
        "colab": {
          "base_uri": "https://localhost:8080/"
        },
        "id": "KQeZnY45LZ2P",
        "outputId": "542ca343-1d64-4ef1-e8f7-cd03a5f8deba"
      },
      "execution_count": 38,
      "outputs": [
        {
          "output_type": "stream",
          "name": "stdout",
          "text": [
            "ERROR: Could not find file /tmp/ipython-input-38-1206804594.py\n"
          ]
        }
      ]
    },
    {
      "cell_type": "code",
      "source": [
        "# 17. Write a Python program to create and write a list of numbers to a file, one number per line.\n",
        "# Ans:\n",
        "numbers = [1, 2, 3, 4, 5]\n",
        "\n",
        "with open(\"numbers.txt\", \"w\") as file:\n",
        "    for number in numbers:\n",
        "        file.write(str(number) + \"\\n\")\n",
        "\n",
        "print(\"Numbers written to file successfully.\")"
      ],
      "metadata": {
        "colab": {
          "base_uri": "https://localhost:8080/"
        },
        "id": "zNRqwtj2LZw_",
        "outputId": "fcb85f03-076e-4ba6-93bb-998d057bfee8"
      },
      "execution_count": 40,
      "outputs": [
        {
          "output_type": "stream",
          "name": "stdout",
          "text": [
            "Numbers written to file successfully.\n"
          ]
        }
      ]
    },
    {
      "cell_type": "code",
      "source": [
        "# 18. How would you implement a basic logging setup that logs to a file with rotation after 1MB?\n",
        "# Ans:\n",
        "import logging\n",
        "from logging.handlers import RotatingFileHandler\n",
        "\n",
        "logger = logging.getLogger(__name__)\n",
        "logger.setLevel(logging.INFO)\n",
        "\n",
        "handler = RotatingFileHandler(\"app.log\", maxBytes=1000000, backupCount=5)\n",
        "logger.addHandler(handler)\n",
        "\n",
        "logger.info(\"This is an info message\")\n",
        "log_file = \"app.log\"\n",
        "max_log_size = 1024 * 1024"
      ],
      "metadata": {
        "colab": {
          "base_uri": "https://localhost:8080/"
        },
        "id": "uzgmu1blLZlQ",
        "outputId": "7d00843d-b7bb-44cc-b840-a213edb21aac"
      },
      "execution_count": 48,
      "outputs": [
        {
          "output_type": "stream",
          "name": "stderr",
          "text": [
            "INFO:__main__:This is an info message\n"
          ]
        }
      ]
    },
    {
      "cell_type": "code",
      "source": [
        "# 19. Write a program that handles both IndexError and KeyError using a try-except block\n",
        "# Ans:\n",
        "my_list = [1, 2, 3]\n",
        "my_dict = {\"a\": 1, \"b\": 2}\n",
        "\n",
        "try:\n",
        "    value = my_list[5]         # This will raise IndexError\n",
        "    value2 = my_dict[\"z\"]      # This would raise KeyError if executed\n",
        "except IndexError:\n",
        "    print(\"Error: Index out of range.\")\n",
        "except KeyError:\n",
        "    print(\"Error: Key not found in the dictionary.\")\n"
      ],
      "metadata": {
        "colab": {
          "base_uri": "https://localhost:8080/"
        },
        "id": "K1bXpD2iLZYO",
        "outputId": "0ffbb376-3a39-406c-e33c-b27c05dd509c"
      },
      "execution_count": 50,
      "outputs": [
        {
          "output_type": "stream",
          "name": "stdout",
          "text": [
            "Error: Index out of range.\n"
          ]
        }
      ]
    },
    {
      "cell_type": "code",
      "source": [
        "# 20. How would you open a file and read its contents using a context manager in Python?\n",
        "# Ans:\n",
        "# Using a context manager to open and read a file\n",
        "file_path = \"example.txt\"\n",
        "\n",
        "try:\n",
        "    with open(file_path, \"r\") as file:\n",
        "        contents = file.read()\n",
        "        print(\"File contents:\\n\", contents)\n",
        "except FileNotFoundError:\n",
        "    print(\"Error: File not found.\")\n",
        "\n"
      ],
      "metadata": {
        "colab": {
          "base_uri": "https://localhost:8080/"
        },
        "id": "XfWR9YOiLZQR",
        "outputId": "dad026b3-e123-44b6-ab9b-63e68b783afe"
      },
      "execution_count": 56,
      "outputs": [
        {
          "output_type": "stream",
          "name": "stdout",
          "text": [
            "Error: File not found.\n"
          ]
        }
      ]
    },
    {
      "cell_type": "code",
      "source": [
        "# 21. Write a Python program that reads a file and prints the number of occurrences of a specific word.\n",
        "# Ans:\n",
        "\n",
        "target_word = \"python\"\n",
        "\n",
        "# Open and read the file\n",
        "try:\n",
        "    with open(\"sample.txt\", \"r\") as file:\n",
        "        content = file.read()\n",
        "        word_count = content.lower().split().count(target_word.lower())\n",
        "        print(f\"The word '{target_word}' occurred {word_count} times in the file.\")\n",
        "except FileNotFoundError:\n",
        "    print(\"Error: The file was not found.\")\n"
      ],
      "metadata": {
        "colab": {
          "base_uri": "https://localhost:8080/"
        },
        "id": "ljZ2-NRnVqsQ",
        "outputId": "c8a7fd28-6585-4a0b-be5f-8072e0c1d18f"
      },
      "execution_count": 59,
      "outputs": [
        {
          "output_type": "stream",
          "name": "stdout",
          "text": [
            "Error: The file was not found.\n"
          ]
        }
      ]
    },
    {
      "cell_type": "code",
      "source": [
        "# 22. How can you check if a file is empty before attempting to read its contents?\n",
        "# Ans:\n",
        "\n",
        "import os\n",
        "\n",
        "file_path = \"sample.txt\"\n",
        "\n",
        "if os.path.exists(file_path):\n",
        "    if os.path.getsize(file_path) == 0:\n",
        "        print(\"The file is empty.\")\n",
        "    else:\n",
        "        with open(file_path, \"r\") as file:\n",
        "            contents = file.read()\n",
        "            print(\"File contents:\\n\", contents)\n",
        "else:\n",
        "    print(\"Error: The file does not exist.\")\n"
      ],
      "metadata": {
        "colab": {
          "base_uri": "https://localhost:8080/"
        },
        "id": "viJWmktPLZHb",
        "outputId": "e19fbf73-5606-41bb-a543-0c6533350270"
      },
      "execution_count": 62,
      "outputs": [
        {
          "output_type": "stream",
          "name": "stdout",
          "text": [
            "Error: The file does not exist.\n"
          ]
        }
      ]
    },
    {
      "cell_type": "code",
      "source": [
        "# 23. Write a Python program that writes to a log file when an error occurs during file handling.\n",
        "# Ans:\n",
        "import logging\n",
        "\n",
        "logging.basicConfig(filename=\"error_log.txt\", level=logging.ERROR)\n",
        "\n",
        "try:\n",
        "    with open(\"nonexistent_file.txt\", \"r\") as file:\n",
        "        content = file.read()\n",
        "except FileNotFoundError:\n",
        "    logging.error(\"Error: The file was not found.\")"
      ],
      "metadata": {
        "colab": {
          "base_uri": "https://localhost:8080/"
        },
        "id": "bJZVLWcnW-1X",
        "outputId": "d030a55f-2f1f-4063-d4d3-962acd37cb02"
      },
      "execution_count": 70,
      "outputs": [
        {
          "output_type": "stream",
          "name": "stderr",
          "text": [
            "ERROR:root:Error: The file was not found.\n"
          ]
        }
      ]
    }
  ]
}